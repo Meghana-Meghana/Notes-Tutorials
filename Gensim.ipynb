{
 "cells": [
  {
   "cell_type": "markdown",
   "metadata": {},
   "source": [
    "# Gensim (generate similar)\n",
    "\n",
    "\n",
    "* **Open source Python library for NLP with a focus on Topic Modelling.**\n",
    "* Tool for discovering semantic structure of documents by examining the patterns of words.\n",
    "* Retrieves semantically similar documents\n",
    "* Vector Space Modelling and Topic Modelling toolkit\n",
    "* Uses NumPy, SciPy and optionally Cython\n",
    "* Specifically designed to handle large text collections\n",
    "\n",
    "> Gensim includes implementations of tf-idf, random projections, word2vec and document2vec algorithms, hierarchical Dirichlet processes (HDP), latent semantic analysis (LSA, LSI, SVD) and latent Dirichlet allocation (LDA), including distributed parallel versions.\n",
    "\n",
    "### Important Features:\n",
    "\n",
    "* [Vector Spaces](https://github.com/RaRe-Technologies/gensim/blob/develop/docs/notebooks/Corpora_and_Vector_Spaces.ipynb) \n",
    "Representation of Corpus of documents into Vectors.\n",
    "* [Transformations](https://github.com/RaRe-Technologies/gensim/blob/7e4965ee6c9d4e200dae6fb089b46c2ebc27e159/docs/notebooks/Topics_and_Transformations.ipynb)\n",
    "Transformation of one vector representation to another. This will help to explore different hidden structures in the corpus. Following are the available transformations(Vector Space Model Algorithms).\n",
    "\n",
    "   * **Term Frequency- Inverse Document Frequency (Tf-Idf)**\n",
    "> model = models.TfidfModel(corpus, normalize=True)\n",
    "   * **Latent Semantic Indexing (LSI or LSA)**\n",
    "> model = models.LsiModel(corpus_tfidf, id2word=dictionary, num_topics=300)\n",
    "   * **Random Projections (RP)**\n",
    "> model = models.RpModel(corpus_tfidf, num_topics=500)\n",
    "   * **Latent Dirichlet Allocation (LDA)**\n",
    "> model = models.LdaModel(corpus, id2word=dictionary, num_topics=100)\n",
    "   * **Hierarchical Dirichlet Processes (HDP)**\n",
    "> model = models.HdpModel(corpus, id2word=dictionary)\n",
    "\n",
    "* [Topic modelling/Similarity generation](https://github.com/RaRe-Technologies/gensim/blob/7e4965ee6c9d4e200dae6fb089b46c2ebc27e159/docs/notebooks/Similarity_Queries.ipynb) Determination of similarities \n",
    "amongst the documents.\n",
    "\n",
    "* Word Embeddings\n",
    "    * [Word2Vec](https://github.com/RaRe-Technologies/gensim/blob/develop/docs/notebooks/word2vec.ipynb)\n",
    "    * [Doc2Vec](https://github.com/RaRe-Technologies/gensim/blob/develop/docs/notebooks/doc2vec-lee.ipynb)\n",
    "\n",
    "### Advanced Features:\n",
    "\n",
    "* [Distributed Computing](https://radimrehurek.com/gensim/distributed.html)\n",
    "* [Document Similarity Server](https://radimrehurek.com/gensim/simserver.html)\n",
    "\n",
    "### Tutorials:\n",
    "\n",
    "* [Official Website](https://radimrehurek.com/gensim/tutorial.html#first-example) \n",
    "* [API Documentation]()\n",
    "* [Tutorial1](https://github.com/RaRe-Technologies/gensim/blob/develop/tutorials.md)\n",
    "* [Tutorial2](https://github.com/jxieeducation/DIY-Data-Science/blob/master/frameworks/gensim.md) (my rec)\n",
    "\n",
    "\n",
    "\n",
    "### Cheat Sheets:\n",
    "\n"
   ]
  }
 ],
 "metadata": {
  "kernelspec": {
   "display_name": "Python 3",
   "language": "python",
   "name": "python3"
  },
  "language_info": {
   "codemirror_mode": {
    "name": "ipython",
    "version": 3
   },
   "file_extension": ".py",
   "mimetype": "text/x-python",
   "name": "python",
   "nbconvert_exporter": "python",
   "pygments_lexer": "ipython3",
   "version": "3.7.1"
  }
 },
 "nbformat": 4,
 "nbformat_minor": 2
}
