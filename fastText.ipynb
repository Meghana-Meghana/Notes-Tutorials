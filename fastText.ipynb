{
 "cells": [
  {
   "cell_type": "markdown",
   "metadata": {},
   "source": [
    "# fast Text\n",
    "\n",
    "* library for efficient learning of word representations and sentence classification.\n",
    "* provides vector representation even for words not present in the dictionary.\n",
    "* provides n-gram embeddings.\n",
    "* methods used for developing Word Vectors -- Skipgram and CBOW(Continuous Bag of Words)\n",
    "\n",
    " **Skipgram** ```./fasttext skipgram -input file.txt -output model ```\n",
    " \n",
    " **CBOW**     ```./fasttext cbow -input file.txt -output model ```\n",
    "\n",
    "**./fasttext** – It is used to invoke the FastText library.\n",
    "\n",
    "**skipgram/cbow** – It is where you specify whether skipgram or cbow is to be used to create the word representations.\n",
    "\n",
    "**-input **– This is the name of the parameter which specifies the following word to be used as the name of the file used for training. This argument should be used as is.\n",
    "\n",
    "**data.txt** – a sample text file over which we wish to train the skipgram or cbow model. Change this name to the name of the text file you have.\n",
    "\n",
    "**-output** – This is the name of the parameter which specifies the following word to be used as the name of the model being created. This argument is to be used as is.\n",
    "\n",
    "**model** – This is the name of the model created.\n",
    "\n",
    "Running the above command will create two files named **model.bin** and **model.vec**.\n",
    "\n",
    "**model.bin** contains the model parameters, dictionary and the hyperparameters and can be used to compute word vectors. **model.vec** is a text file that contains the word vectors for one word per line.\n",
    "\n",
    "### References\n",
    "\n",
    "https://fasttext.cc/docs/en/support.html\n",
    "\n",
    "https://www.analyticsvidhya.com/blog/2017/07/word-representations-text-classification-using-fasttext-nlp-facebook/\n",
    "\n",
    "fastText vs Gensim : https://rare-technologies.com/fasttext-and-gensim-word-embeddings/\n",
    "\n",
    "fasttext : https://pypi.org/project/fasttext/  \n"
   ]
  },
  {
   "cell_type": "code",
   "execution_count": null,
   "metadata": {},
   "outputs": [],
   "source": [
    "# \"fasttext\" is Python interface for \"fastText\"\n",
    "    \n",
    "import fasttext\n",
    "\n",
    "# Skipgram model\n",
    "model = fasttext.skipgram('file.txt', 'model')\n",
    "print(model.words) # list of words in dictionary\n",
    "\n",
    "# CBOW model\n",
    "model = fasttext.cbow('file.txt', 'model')\n",
    "print(model.words) # list of words in dictionary"
   ]
  }
 ],
 "metadata": {
  "kernelspec": {
   "display_name": "Python 3",
   "language": "python",
   "name": "python3"
  },
  "language_info": {
   "codemirror_mode": {
    "name": "ipython",
    "version": 3
   },
   "file_extension": ".py",
   "mimetype": "text/x-python",
   "name": "python",
   "nbconvert_exporter": "python",
   "pygments_lexer": "ipython3",
   "version": "3.7.1"
  }
 },
 "nbformat": 4,
 "nbformat_minor": 2
}
